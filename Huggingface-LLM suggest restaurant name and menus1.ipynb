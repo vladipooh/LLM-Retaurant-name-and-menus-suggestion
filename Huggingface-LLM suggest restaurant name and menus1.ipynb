{
 "cells": [
  {
   "cell_type": "code",
   "execution_count": 123,
   "id": "48a1bf2e-ade2-4759-8171-7ce88bafe6bd",
   "metadata": {
    "tags": []
   },
   "outputs": [],
   "source": [
    "#pip install huggingface_hub\n",
    "from langchain_community.llms import HuggingFaceHub"
   ]
  },
  {
   "cell_type": "markdown",
   "id": "61a10938-0cfe-43ee-9617-21e716ae8f54",
   "metadata": {
    "tags": []
   },
   "source": [
    "## Set your Hugging Face API token"
   ]
  },
  {
   "cell_type": "code",
   "execution_count": 125,
   "id": "4ebf2ff3-bdd3-473b-893e-e8b2a6f01666",
   "metadata": {
    "tags": []
   },
   "outputs": [],
   "source": [
    "huggingfacehub_api_token = 'TOKEN'"
   ]
  },
  {
   "cell_type": "code",
   "execution_count": 207,
   "id": "a955fbd6-5935-4dfe-95b1-c8b5ba5791ca",
   "metadata": {
    "tags": []
   },
   "outputs": [],
   "source": [
    "llm = HuggingFaceHub(repo_id='tiiuae/falcon-7b-instruct', huggingfacehub_api_token=huggingfacehub_api_token, model_kwargs = {\n",
    "                \"min_length\": 200,\n",
    "                \"max_length\": 1000,\n",
    "                \"temperature\":0.5,\n",
    "                \"num_return_sequences\":2,\n",
    "                \"max_new_tokens\":512\n",
    "            })"
   ]
  },
  {
   "cell_type": "code",
   "execution_count": 209,
   "id": "5640b768-8994-46f5-8919-096915d07249",
   "metadata": {
    "tags": []
   },
   "outputs": [
    {
     "name": "stdout",
     "output_type": "stream",
     "text": [
      "I want to open a restaurant for Indian food. Suggest a fancy name for this.\n",
      "How about 'Taste of India Bistro' or 'Indigo Restaurant'?\n"
     ]
    }
   ],
   "source": [
    "input = 'I want to open a restaurant for Indian food. Suggest a fancy name for this.'\n",
    "output = llm.invoke(input)\n",
    "print(output)"
   ]
  },
  {
   "cell_type": "code",
   "execution_count": 55,
   "id": "66c1de01-db20-463b-9cee-48d1f0ac4fa3",
   "metadata": {
    "tags": []
   },
   "outputs": [
    {
     "data": {
      "text/plain": [
       "\"I want to open a restaurant for Indian food. Suggest a fancy name for this.\\nHow about 'The Spice Kitchen' or 'Masala Maven'?\""
      ]
     },
     "execution_count": 55,
     "metadata": {},
     "output_type": "execute_result"
    }
   ],
   "source": [
    "llm('I want to open a restaurant for Indian food. Suggest a fancy name for this.')"
   ]
  },
  {
   "cell_type": "code",
   "execution_count": 57,
   "id": "202cf2bc-38b6-40d2-bfb2-027eefa23cfd",
   "metadata": {
    "tags": []
   },
   "outputs": [
    {
     "data": {
      "text/plain": [
       "\"I want to open a restaurant for Thai food. Suggest a fancy name for this.\\nHow about 'Siam Splendor' or 'Taste of Thailand'?\""
      ]
     },
     "execution_count": 57,
     "metadata": {},
     "output_type": "execute_result"
    }
   ],
   "source": [
    "llm('I want to open a restaurant for Thai food. Suggest a fancy name for this.')"
   ]
  },
  {
   "cell_type": "markdown",
   "id": "30bb32c0-8bbb-4fa8-bf02-618fb4034418",
   "metadata": {},
   "source": [
    "## Prompt Templates"
   ]
  },
  {
   "cell_type": "code",
   "execution_count": 73,
   "id": "501a9528-53ab-45e5-a63a-56a6a4defdda",
   "metadata": {
    "tags": []
   },
   "outputs": [
    {
     "name": "stdout",
     "output_type": "stream",
     "text": [
      "I want to open a restaurant for Italian food. Suggest a fancy name for this.\n"
     ]
    }
   ],
   "source": [
    "from langchain.prompts import PromptTemplate\n",
    "\n",
    "prompt_template_name = PromptTemplate(\n",
    "    input_variables =['cuisine'],\n",
    "    template = \"I want to open a restaurant for {cuisine} food. Suggest a fancy name for this.\"\n",
    ")\n",
    "p = prompt_template_name.format(cuisine=\"Italian\")\n",
    "print(p)\n"
   ]
  },
  {
   "cell_type": "markdown",
   "id": "a87cef1d-2da6-494d-ad00-b4de6f7fecfa",
   "metadata": {},
   "source": [
    "## Chains"
   ]
  },
  {
   "cell_type": "code",
   "execution_count": 76,
   "id": "7eede175-8e97-437f-b114-9608b9b29165",
   "metadata": {
    "tags": []
   },
   "outputs": [
    {
     "data": {
      "text/plain": [
       "{'cuisine': 'Mexican',\n",
       " 'text': 'I want to open a restaurant for Mexican food. Suggest a fancy name for this.\\nLa Fonda del Sol Mexican Cuisine'}"
      ]
     },
     "execution_count": 76,
     "metadata": {},
     "output_type": "execute_result"
    }
   ],
   "source": [
    "from langchain.chains import LLMChain\n",
    "\n",
    "chain = LLMChain(llm=llm, prompt=prompt_template_name)\n",
    "chain.invoke(\"Mexican\")"
   ]
  },
  {
   "cell_type": "code",
   "execution_count": 79,
   "id": "2e48dc3b-a249-4413-ad03-b0f15f189999",
   "metadata": {
    "tags": []
   },
   "outputs": [
    {
     "name": "stdout",
     "output_type": "stream",
     "text": [
      "\n",
      "\n",
      "\u001b[1m> Entering new LLMChain chain...\u001b[0m\n",
      "Prompt after formatting:\n",
      "\u001b[32;1m\u001b[1;3mI want to open a restaurant for Mexican food. Suggest a fancy name for this.\u001b[0m\n",
      "\n",
      "\u001b[1m> Finished chain.\u001b[0m\n"
     ]
    },
    {
     "data": {
      "text/plain": [
       "{'cuisine': 'Mexican',\n",
       " 'text': 'I want to open a restaurant for Mexican food. Suggest a fancy name for this.\\nLa Fonda del Sol Mexican Cuisine'}"
      ]
     },
     "execution_count": 79,
     "metadata": {},
     "output_type": "execute_result"
    }
   ],
   "source": [
    "chain = LLMChain(llm=llm, prompt=prompt_template_name, verbose=True)\n",
    "chain.invoke(\"Mexican\")"
   ]
  },
  {
   "cell_type": "code",
   "execution_count": 89,
   "id": "a19bbe3b-8d83-47d6-b0fd-b225564ed5e9",
   "metadata": {
    "tags": []
   },
   "outputs": [],
   "source": [
    "llm = HuggingFaceHub(repo_id='tiiuae/falcon-7b-instruct', huggingfacehub_api_token=huggingfacehub_api_token, model_kwargs = {\n",
    "                \"min_length\": 200,\n",
    "                \"max_length\":2000,\n",
    "                \"temperature\":0.6,\n",
    "                \"num_return_sequences\":1\n",
    "            })\n",
    "\n",
    "prompt_template_name = PromptTemplate(\n",
    "    input_variables =['cuisine'],\n",
    "    template = \"I want to open a restaurant for {cuisine} food. Suggest a fancy name for this.\"\n",
    ")\n",
    "\n",
    "name_chain =LLMChain(llm=llm, prompt=prompt_template_name)\n",
    "\n",
    "prompt_template_items = PromptTemplate(\n",
    "    input_variables = ['restaurant_name'],\n",
    "    template=\"\"\"Suggest some menu items for {restaurant_name}\"\"\"\n",
    ")\n",
    "\n",
    "food_items_chain = LLMChain(llm=llm, prompt=prompt_template_items)"
   ]
  },
  {
   "cell_type": "markdown",
   "id": "88774df9-2ca8-43b5-8f66-e45f0e0ef35c",
   "metadata": {},
   "source": [
    "#### Simple Sequential Chain"
   ]
  },
  {
   "cell_type": "code",
   "execution_count": 91,
   "id": "5ec5a4fd-9d81-48f1-bebc-9cd100073d94",
   "metadata": {
    "tags": []
   },
   "outputs": [
    {
     "name": "stdout",
     "output_type": "stream",
     "text": [
      "{'input': 'Indian', 'output': \"Suggest some menu items for I want to open a restaurant for Indian food. Suggest a fancy name for this.\\nIshaan Indian Cuisine or The Maharaja's Kitchen are both fancy names for an Indian restaurant. Some menu items to consider offering could be: Tandoori chicken, Palak paneer, Aloo Gobi, Biryani, and Samosas.\"}\n"
     ]
    }
   ],
   "source": [
    "from langchain.chains import SimpleSequentialChain\n",
    "chain = SimpleSequentialChain(chains = [name_chain, food_items_chain])\n",
    "\n",
    "content = chain.invoke(\"Indian\")\n",
    "print(content)"
   ]
  },
  {
   "cell_type": "markdown",
   "id": "1bcaf967-5f14-4576-8ef8-6f5d106c7bd5",
   "metadata": {
    "tags": []
   },
   "source": [
    "#### Sequential Chain"
   ]
  },
  {
   "cell_type": "code",
   "execution_count": 127,
   "id": "cd977ef1-7227-4987-85fb-c09ae1baf9bb",
   "metadata": {
    "tags": []
   },
   "outputs": [],
   "source": [
    "llm = HuggingFaceHub(repo_id='tiiuae/falcon-7b-instruct', huggingfacehub_api_token=huggingfacehub_api_token, model_kwargs = {\n",
    "                \"min_length\": 200,\n",
    "                \"max_length\":2000,\n",
    "                \"temperature\":0.6,\n",
    "                \"num_return_sequences\":1\n",
    "            })\n",
    "prompt_template_name = PromptTemplate(\n",
    "    input_variables =['cuisine'],\n",
    "    template = \"I want to open a restaurant for {cuisine} food. Suggest a fancy name for this.\"\n",
    ")\n",
    "\n",
    "name_chain =LLMChain(llm=llm, prompt=prompt_template_name, output_key=\"restaurant_name\")"
   ]
  },
  {
   "cell_type": "code",
   "execution_count": 220,
   "id": "3dc5dd3b-77c8-41c6-8d36-549f01d662b6",
   "metadata": {
    "tags": []
   },
   "outputs": [],
   "source": [
    "llm = HuggingFaceHub(repo_id='tiiuae/falcon-7b-instruct', huggingfacehub_api_token=huggingfacehub_api_token, model_kwargs = {\n",
    "                \"min_length\": 200,\n",
    "                \"max_length\":2000,\n",
    "                \"temperature\":0.6,\n",
    "                \"num_return_sequences\":1\n",
    "            })\n",
    "\n",
    "prompt_template_items = PromptTemplate(\n",
    "    input_variables = ['cuisine'],\n",
    "    template=\"Suggest some menu items for {cuisine} restaurant.\"\n",
    ")\n",
    "\n",
    "food_items_chain =LLMChain(llm=llm, prompt=prompt_template_items, output_key=\"menu_items\")"
   ]
  },
  {
   "cell_type": "code",
   "execution_count": 222,
   "id": "6d78be4f-5c9e-4ab2-9eb3-2f147a6c12dc",
   "metadata": {
    "tags": []
   },
   "outputs": [],
   "source": [
    "from langchain.chains import SequentialChain\n",
    "\n",
    "chain = SequentialChain(\n",
    "    chains = [name_chain, food_items_chain],\n",
    "    input_variables = ['cuisine'],\n",
    "    output_variables = ['restaurant_name', \"menu_items\"]\n",
    ")"
   ]
  },
  {
   "cell_type": "code",
   "execution_count": 224,
   "id": "0e9209bb-3b32-4a35-bb8c-9758f17a9da5",
   "metadata": {
    "tags": []
   },
   "outputs": [
    {
     "data": {
      "text/plain": [
       "{'cuisine': 'Indian',\n",
       " 'restaurant_name': \"I want to open a restaurant for Indian food. Suggest a fancy name for this.\\nIshaan Indian Cuisine or The Maharaja's Kitchen are both fancy names for an Indian restaurant.\",\n",
       " 'menu_items': 'Suggest some menu items for Indian restaurant.\\n- Samosas\\n- Tandoori chicken\\n- Palak paneer\\n- Aloo Gobi\\n- Biryani\\n- Tawa Gosht\\n- Chana Masala'}"
      ]
     },
     "execution_count": 224,
     "metadata": {},
     "output_type": "execute_result"
    }
   ],
   "source": [
    "chain.invoke({\"cuisine\": \"Indian\"})"
   ]
  },
  {
   "cell_type": "code",
   "execution_count": null,
   "id": "370795bf-9c88-4944-95d7-fe5b0cb5fc01",
   "metadata": {},
   "outputs": [],
   "source": []
  }
 ],
 "metadata": {
  "kernelspec": {
   "display_name": "Python 3 (ipykernel)",
   "language": "python",
   "name": "python3"
  },
  "language_info": {
   "codemirror_mode": {
    "name": "ipython",
    "version": 3
   },
   "file_extension": ".py",
   "mimetype": "text/x-python",
   "name": "python",
   "nbconvert_exporter": "python",
   "pygments_lexer": "ipython3",
   "version": "3.11.7"
  }
 },
 "nbformat": 4,
 "nbformat_minor": 5
}
